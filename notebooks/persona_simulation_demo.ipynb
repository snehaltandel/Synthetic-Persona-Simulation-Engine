{
 "cells": [
  {
   "cell_type": "markdown",
   "metadata": {},
   "source": [
    "# Synthetic Persona Simulation Demo\n",
    "This notebook demonstrates the end-to-end workflow on the bundled sample dataset."
   ]
  },
  {
   "cell_type": "code",
   "execution_count": null,
   "metadata": {},
   "outputs": [],
   "source": [
    "import pandas as pd\n",
    "from synthetic_persona_engine.data import etl, features\n",
    "from synthetic_persona_engine.modeling import segmentation, traits\n",
    "from synthetic_persona_engine.simulation import persona_generator, environment, experiments\n",
    "from synthetic_persona_engine.analytics import reporting\n",
    "\n",
    "events = etl.load_event_log_csv('../data/sample_events.csv')\n",
    "session_features = features.engineer_session_features(events)\n",
    "path_features = features.engineer_path_features(events, funnel_events=['landing', 'signup_start', 'signup_complete'])\n",
    "user_features = features.engineer_user_features(events, session_features, path_features)\n",
    "\n",
    "embeddings, user_ids, vectorizer = segmentation.encode_event_sequences(events)\n",
    "segmentation_result = segmentation.cluster_event_sequences(events, n_clusters=2)\n",
    "events_with_clusters = segmentation.attach_clusters(events, segmentation_result, user_ids)\n",
    "persona_summary = reporting.build_persona_summary(events_with_clusters)\n",
    "\n",
    "generator = persona_generator.MarkovPersonaGenerator.from_events(events)\n",
    "simulator = environment.ProductFlowSimulator(generator, completion_events={'signup_complete'}, drop_events={'drop_off', 'friction_drop'})\n",
    "flow_change = environment.FlowModification(description='Add two extra onboarding steps', additional_steps=2, friction_factor=0.1)\n",
    "experiment_result = experiments.run_ab_experiment(simulator, n_personas=100, modification=flow_change, max_length=10, random_state=42)\n",
    "experiment_df = experiments.results_to_dataframe(experiment_result)\n",
    "\n",
    "persona_summary, experiment_df"
   ]
  }
 ],
 "metadata": {
  "kernelspec": {
   "display_name": "Python 3",
   "language": "python",
   "name": "python3"
  },
  "language_info": {
   "codemirror_mode": {
    "name": "ipython",
    "version": 3
   },
   "file_extension": ".py",
   "mimetype": "text/x-python",
   "name": "python",
   "nbconvert_exporter": "python",
   "pygments_lexer": "ipython3",
   "version": "3.10"
  }
 },
 "nbformat": 4,
 "nbformat_minor": 5
}
